{
 "cells": [
  {
   "cell_type": "code",
   "execution_count": 32,
   "metadata": {},
   "outputs": [],
   "source": [
    "import numpy as np\n",
    "\n",
    "board = np.array(\n",
    "    [\n",
    "        [\n",
    "            [22, 13, 17, 11, 0],\n",
    "            [8, 2, 23, 4, 24],\n",
    "            [21, 9, 14, 16, 7],\n",
    "            [6, 10, 3, 18, 5],\n",
    "            [1, 12, 20, 15, 19],\n",
    "        ],\n",
    "        [\n",
    "            [3, 15, 0, 2, 22],\n",
    "            [9, 18, 13, 17, 5],\n",
    "            [19, 8, 7, 25, 23],\n",
    "            [20, 11, 10, 24, 4],\n",
    "            [14, 21, 16, 12, 6],\n",
    "        ],\n",
    "    ]\n",
    ")\n"
   ]
  },
  {
   "cell_type": "code",
   "execution_count": 33,
   "metadata": {},
   "outputs": [],
   "source": [
    "draws = np.array([7,4,9,5,11,17,23,2,0,14,21,24,10,16,13])"
   ]
  },
  {
   "cell_type": "code",
   "execution_count": 34,
   "metadata": {},
   "outputs": [],
   "source": [
    "state = np.isin(board,draws)\n",
    "columns = state.all(axis=1).any(axis=1)\n",
    "rows = state.all(axis=2).any(axis=1)"
   ]
  },
  {
   "cell_type": "code",
   "execution_count": 86,
   "metadata": {},
   "outputs": [],
   "source": [
    "import pandas as pd\n",
    "\n",
    "data = pd.read_csv('small_input.csv')"
   ]
  },
  {
   "cell_type": "code",
   "execution_count": 87,
   "metadata": {},
   "outputs": [],
   "source": [
    "def str_to_list(row):\n",
    "    return row.str.split()\n",
    "data = data.apply(str_to_list,axis=0)\n",
    "data = pd.DataFrame(data.Rows.tolist(), index=data.index)\n",
    "data = data.apply(pd.to_numeric)"
   ]
  },
  {
   "cell_type": "code",
   "execution_count": 97,
   "metadata": {},
   "outputs": [
    {
     "data": {
      "text/plain": [
       "array([[[22, 13, 17, 11,  0],\n",
       "        [ 8,  2, 23,  4, 24],\n",
       "        [21,  9, 14, 16,  7],\n",
       "        [ 6, 10,  3, 18,  5],\n",
       "        [ 1, 12, 20, 15, 19]],\n",
       "\n",
       "       [[ 3, 15,  0,  2, 22],\n",
       "        [ 9, 18, 13, 17,  5],\n",
       "        [19,  8,  7, 25, 23],\n",
       "        [20, 11, 10, 24,  4],\n",
       "        [14, 21, 16, 12,  6]],\n",
       "\n",
       "       [[14, 21, 17, 24,  4],\n",
       "        [10, 16, 15,  9, 19],\n",
       "        [18,  8, 23, 26, 20],\n",
       "        [22, 11, 13,  6,  5],\n",
       "        [ 2,  0, 12,  3,  7]]], dtype=int64)"
      ]
     },
     "execution_count": 97,
     "metadata": {},
     "output_type": "execute_result"
    }
   ],
   "source": [
    "np.reshape(data.values,(int(len(data)/5),5,5))"
   ]
  },
  {
   "cell_type": "code",
   "execution_count": 17,
   "metadata": {},
   "outputs": [
    {
     "data": {
      "text/plain": [
       "[[5, 4, 3, 2], [5, 6, 7, 8]]"
      ]
     },
     "execution_count": 17,
     "metadata": {},
     "output_type": "execute_result"
    }
   ],
   "source": [
    "import numpy as np\n",
    "\n",
    "first = np.array([5,5])\n",
    "second = np.array([8,2])\n",
    "\n",
    "x_min = min(first[0],second[0])\n",
    "x_max = max(first[0],second[0])\n",
    "y_min = min(first[1],second[1])\n",
    "y_max = max(first[1],second[1])\n",
    "\n",
    "if first[0] < second[0]:\n",
    "    mark = [list(reversed(range(y_min,y_max+1))),list(range(x_min,x_max+1))]\n",
    "mark"
   ]
  }
 ],
 "metadata": {
  "interpreter": {
   "hash": "7a3349c20a1b81e119a7bc95f135d7a5e35672e7d84722e680d196fb628dad87"
  },
  "kernelspec": {
   "display_name": "Python 3.9.7 64-bit ('base': conda)",
   "language": "python",
   "name": "python3"
  },
  "language_info": {
   "codemirror_mode": {
    "name": "ipython",
    "version": 3
   },
   "file_extension": ".py",
   "mimetype": "text/x-python",
   "name": "python",
   "nbconvert_exporter": "python",
   "pygments_lexer": "ipython3",
   "version": "3.9.7"
  },
  "orig_nbformat": 4
 },
 "nbformat": 4,
 "nbformat_minor": 2
}
